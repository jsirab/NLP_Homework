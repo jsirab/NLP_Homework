{
 "cells": [
  {
   "cell_type": "code",
   "execution_count": null,
   "metadata": {},
   "outputs": [],
   "source": [
    "python -c \"import nltk;nltk.download('all')\"\n"
   ]
  },
  {
   "cell_type": "code",
   "execution_count": null,
   "metadata": {},
   "outputs": [],
   "source": [
    "!python -c \"import nltk;nltk.download('all')\""
   ]
  },
  {
   "cell_type": "code",
   "execution_count": null,
   "metadata": {},
   "outputs": [],
   "source": [
    "conda install -c conda-forge wordcloud"
   ]
  },
  {
   "cell_type": "code",
   "execution_count": null,
   "metadata": {},
   "outputs": [],
   "source": []
  },
  {
   "cell_type": "code",
   "execution_count": null,
   "metadata": {},
   "outputs": [],
   "source": [
    "!conda install -c conda-forge wordcloud"
   ]
  },
  {
   "cell_type": "code",
   "execution_count": null,
   "metadata": {},
   "outputs": [],
   "source": [
    "! conda list newsapi-python\n"
   ]
  },
  {
   "cell_type": "code",
   "execution_count": null,
   "metadata": {},
   "outputs": [],
   "source": [
    "!conda install -c conda-forge wordcloud"
   ]
  },
  {
   "cell_type": "code",
   "execution_count": 1,
   "metadata": {},
   "outputs": [
    {
     "name": "stdout",
     "output_type": "stream",
     "text": [
      "Collecting package metadata (current_repodata.json): done\n",
      "Solving environment: \\ \n",
      "The environment is inconsistent, please check the package plan carefully\n",
      "The following packages are causing the inconsistency:\n",
      "\n",
      "  - defaults/osx-64::_anaconda_depends==2020.07=py38_0\n",
      "  - pyviz/noarch::panel==0.10.3=py_0\n",
      "  - defaults/osx-64::pylint==2.6.0=py38_0\n",
      "  - conda-forge/osx-64::conda==4.10.1=py38h50d1736_0\n",
      "  - defaults/noarch::conda-repo-cli==1.0.4=pyhd3eb1b0_0\n",
      "  - defaults/osx-64::conda-build==3.20.5=py38_1\n",
      "  - defaults/osx-64::anaconda==custom=py38_1\n",
      "  - defaults/noarch::anaconda-project==0.8.4=py_0\n",
      "  - defaults/osx-64::_ipyw_jlab_nb_ext_conf==0.1.0=py38_0\n",
      "  - defaults/osx-64::anaconda-client==1.7.2=py38_0\n",
      "  - pyviz/noarch::pyct==0.4.8=py_0\n",
      "  - defaults/noarch::numpydoc==1.1.0=pyhd3eb1b0_1\n",
      "  - defaults/noarch::jupyterlab==2.2.6=py_0\n",
      "  - defaults/osx-64::anaconda-navigator==2.0.1=py38_0\n",
      "  - defaults/osx-64::astroid==2.4.2=py38_0\n",
      "  - defaults/noarch::jupyterlab_server==1.2.0=py_0\n",
      "  - pyviz/noarch::holoviews==1.14.2=py_0\n",
      "  - pyviz/noarch::colorcet==2.0.6=py_0\n",
      "  - defaults/noarch::sphinx==3.2.1=py_0\n",
      "  - defaults/noarch::python-language-server==0.35.1=py_0\n",
      "  - defaults/noarch::conda-token==0.3.0=pyhd3eb1b0_0\n",
      "  - defaults/osx-64::spyder==4.1.5=py38_0\n",
      "  - pyviz/noarch::hvplot==0.7.1=py_0\n",
      "  - conda-forge/noarch::imbalanced-learn==0.8.0=pyhd8ed1ab_0\n",
      "failed with initial frozen solve. Retrying with flexible solve.\n",
      "Solving environment: failed with repodata from current_repodata.json, will retry with next repodata source.\n",
      "Collecting package metadata (repodata.json): done\n",
      "Solving environment: - \n",
      "The environment is inconsistent, please check the package plan carefully\n",
      "The following packages are causing the inconsistency:\n",
      "\n",
      "  - defaults/osx-64::_anaconda_depends==2020.07=py38_0\n",
      "  - pyviz/noarch::panel==0.10.3=py_0\n",
      "  - defaults/osx-64::pylint==2.6.0=py38_0\n",
      "  - conda-forge/osx-64::conda==4.10.1=py38h50d1736_0\n",
      "  - defaults/noarch::conda-repo-cli==1.0.4=pyhd3eb1b0_0\n",
      "  - defaults/osx-64::conda-build==3.20.5=py38_1\n",
      "  - defaults/osx-64::anaconda==custom=py38_1\n",
      "  - defaults/noarch::anaconda-project==0.8.4=py_0\n",
      "  - defaults/osx-64::_ipyw_jlab_nb_ext_conf==0.1.0=py38_0\n",
      "  - defaults/osx-64::anaconda-client==1.7.2=py38_0\n",
      "  - pyviz/noarch::pyct==0.4.8=py_0\n",
      "  - defaults/noarch::numpydoc==1.1.0=pyhd3eb1b0_1\n",
      "  - defaults/noarch::jupyterlab==2.2.6=py_0\n",
      "  - defaults/osx-64::anaconda-navigator==2.0.1=py38_0\n",
      "  - defaults/osx-64::astroid==2.4.2=py38_0\n",
      "  - defaults/noarch::jupyterlab_server==1.2.0=py_0\n",
      "  - pyviz/noarch::holoviews==1.14.2=py_0\n",
      "  - pyviz/noarch::colorcet==2.0.6=py_0\n",
      "  - defaults/noarch::sphinx==3.2.1=py_0\n",
      "  - defaults/noarch::python-language-server==0.35.1=py_0\n",
      "  - defaults/noarch::conda-token==0.3.0=pyhd3eb1b0_0\n",
      "  - defaults/osx-64::spyder==4.1.5=py38_0\n",
      "  - pyviz/noarch::hvplot==0.7.1=py_0\n",
      "  - conda-forge/noarch::imbalanced-learn==0.8.0=pyhd8ed1ab_0\n",
      "failed with initial frozen solve. Retrying with flexible solve.\n",
      "Solving environment: / \n",
      "Found conflicts! Looking for incompatible packages.\n",
      "This can take several minutes.  Press CTRL-C to abort.\n",
      "Examining conflict for harfbuzz pango lxml glib pyodbc gettext unixodbc anacond\\ ^C\n",
      "                                                                              |failed\n",
      "\n",
      "CondaError: KeyboardInterrupt\n",
      "\n"
     ]
    }
   ],
   "source": [
    "!conda install -c conda-forge/label/gcc7 wordcloud\n"
   ]
  },
  {
   "cell_type": "code",
   "execution_count": 2,
   "metadata": {},
   "outputs": [
    {
     "ename": "SyntaxError",
     "evalue": "invalid syntax (<ipython-input-2-84dc054b5e85>, line 1)",
     "output_type": "error",
     "traceback": [
      "\u001b[0;36m  File \u001b[0;32m\"<ipython-input-2-84dc054b5e85>\"\u001b[0;36m, line \u001b[0;32m1\u001b[0m\n\u001b[0;31m    conda install -c conda-forge spacy\u001b[0m\n\u001b[0m          ^\u001b[0m\n\u001b[0;31mSyntaxError\u001b[0m\u001b[0;31m:\u001b[0m invalid syntax\n"
     ]
    }
   ],
   "source": [
    "conda install -c conda-forge spacy\n",
    "python -m spacy download en_core_web_sm\n"
   ]
  },
  {
   "cell_type": "code",
   "execution_count": 3,
   "metadata": {},
   "outputs": [
    {
     "ename": "SyntaxError",
     "evalue": "invalid syntax (<ipython-input-3-fc5997f11f30>, line 2)",
     "output_type": "error",
     "traceback": [
      "\u001b[0;36m  File \u001b[0;32m\"<ipython-input-3-fc5997f11f30>\"\u001b[0;36m, line \u001b[0;32m2\u001b[0m\n\u001b[0;31m    python -m spacy download en_core_web_sm\u001b[0m\n\u001b[0m              ^\u001b[0m\n\u001b[0;31mSyntaxError\u001b[0m\u001b[0;31m:\u001b[0m invalid syntax\n"
     ]
    }
   ],
   "source": [
    "!conda install -c conda-forge spacy\n",
    "python -m spacy download en_core_web_sm"
   ]
  },
  {
   "cell_type": "code",
   "execution_count": null,
   "metadata": {},
   "outputs": [
    {
     "name": "stdout",
     "output_type": "stream",
     "text": [
      "Collecting package metadata (current_repodata.json): done\n",
      "Solving environment: / \n",
      "The environment is inconsistent, please check the package plan carefully\n",
      "The following packages are causing the inconsistency:\n",
      "\n",
      "  - defaults/osx-64::_anaconda_depends==2020.07=py38_0\n",
      "  - pyviz/noarch::panel==0.10.3=py_0\n",
      "  - defaults/osx-64::pylint==2.6.0=py38_0\n",
      "  - conda-forge/osx-64::conda==4.10.1=py38h50d1736_0\n",
      "  - defaults/noarch::conda-repo-cli==1.0.4=pyhd3eb1b0_0\n",
      "  - defaults/osx-64::conda-build==3.20.5=py38_1\n",
      "  - defaults/osx-64::anaconda==custom=py38_1\n",
      "  - defaults/noarch::anaconda-project==0.8.4=py_0\n",
      "  - defaults/osx-64::_ipyw_jlab_nb_ext_conf==0.1.0=py38_0\n",
      "  - defaults/osx-64::anaconda-client==1.7.2=py38_0\n",
      "  - pyviz/noarch::pyct==0.4.8=py_0\n",
      "  - defaults/noarch::numpydoc==1.1.0=pyhd3eb1b0_1\n",
      "  - defaults/noarch::jupyterlab==2.2.6=py_0\n",
      "  - defaults/osx-64::anaconda-navigator==2.0.1=py38_0\n",
      "  - defaults/osx-64::astroid==2.4.2=py38_0\n",
      "  - defaults/noarch::jupyterlab_server==1.2.0=py_0\n",
      "  - pyviz/noarch::holoviews==1.14.2=py_0\n",
      "  - pyviz/noarch::colorcet==2.0.6=py_0\n",
      "  - defaults/noarch::sphinx==3.2.1=py_0\n",
      "  - defaults/noarch::python-language-server==0.35.1=py_0\n",
      "  - defaults/noarch::conda-token==0.3.0=pyhd3eb1b0_0\n",
      "  - defaults/osx-64::spyder==4.1.5=py38_0\n",
      "  - pyviz/noarch::hvplot==0.7.1=py_0\n",
      "  - conda-forge/noarch::imbalanced-learn==0.8.0=pyhd8ed1ab_0\n",
      "failed with initial frozen solve. Retrying with flexible solve.\n",
      "Solving environment: failed with repodata from current_repodata.json, will retry with next repodata source.\n",
      "Collecting package metadata (repodata.json): done\n",
      "Solving environment: \\ \n",
      "The environment is inconsistent, please check the package plan carefully\n",
      "The following packages are causing the inconsistency:\n",
      "\n",
      "  - defaults/osx-64::_anaconda_depends==2020.07=py38_0\n",
      "  - pyviz/noarch::panel==0.10.3=py_0\n",
      "  - defaults/osx-64::pylint==2.6.0=py38_0\n",
      "  - conda-forge/osx-64::conda==4.10.1=py38h50d1736_0\n",
      "  - defaults/noarch::conda-repo-cli==1.0.4=pyhd3eb1b0_0\n",
      "  - defaults/osx-64::conda-build==3.20.5=py38_1\n",
      "  - defaults/osx-64::anaconda==custom=py38_1\n",
      "  - defaults/noarch::anaconda-project==0.8.4=py_0\n",
      "  - defaults/osx-64::_ipyw_jlab_nb_ext_conf==0.1.0=py38_0\n",
      "  - defaults/osx-64::anaconda-client==1.7.2=py38_0\n",
      "  - pyviz/noarch::pyct==0.4.8=py_0\n",
      "  - defaults/noarch::numpydoc==1.1.0=pyhd3eb1b0_1\n",
      "  - defaults/noarch::jupyterlab==2.2.6=py_0\n",
      "  - defaults/osx-64::anaconda-navigator==2.0.1=py38_0\n",
      "  - defaults/osx-64::astroid==2.4.2=py38_0\n",
      "  - defaults/noarch::jupyterlab_server==1.2.0=py_0\n",
      "  - pyviz/noarch::holoviews==1.14.2=py_0\n",
      "  - pyviz/noarch::colorcet==2.0.6=py_0\n",
      "  - defaults/noarch::sphinx==3.2.1=py_0\n",
      "  - defaults/noarch::python-language-server==0.35.1=py_0\n",
      "  - defaults/noarch::conda-token==0.3.0=pyhd3eb1b0_0\n",
      "  - defaults/osx-64::spyder==4.1.5=py38_0\n",
      "  - pyviz/noarch::hvplot==0.7.1=py_0\n",
      "  - conda-forge/noarch::imbalanced-learn==0.8.0=pyhd8ed1ab_0\n",
      "failed with initial frozen solve. Retrying with flexible solve.\n",
      "Solving environment: | \n",
      "Found conflicts! Looking for incompatible packages.\n",
      "This can take several minutes.  Press CTRL-C to abort.\n",
      "Examining ipywidgets:  12%|██▍                 | 41/344 [01:35<10:59,  2.18s/i- "
     ]
    }
   ],
   "source": [
    "!conda install -c conda-forge spacy\n"
   ]
  },
  {
   "cell_type": "code",
   "execution_count": null,
   "metadata": {},
   "outputs": [],
   "source": []
  }
 ],
 "metadata": {
  "kernelspec": {
   "display_name": "Python 3",
   "language": "python",
   "name": "python3"
  },
  "language_info": {
   "codemirror_mode": {
    "name": "ipython",
    "version": 3
   },
   "file_extension": ".py",
   "mimetype": "text/x-python",
   "name": "python",
   "nbconvert_exporter": "python",
   "pygments_lexer": "ipython3",
   "version": "3.8.2"
  }
 },
 "nbformat": 4,
 "nbformat_minor": 4
}
